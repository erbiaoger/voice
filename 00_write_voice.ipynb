{
 "cells": [
  {
   "cell_type": "code",
   "execution_count": 1,
   "id": "5067f568-e9ad-4fb9-9a91-b9dbdd62c5f3",
   "metadata": {},
   "outputs": [],
   "source": [
    "import numpy as np\n",
    "import wave\n",
    "import struct\n",
    "import matplotlib.pyplot as plt\n",
    "\n",
    "# frequency is the number of times a wave repeats a second\n",
    "frequency = 1000\n",
    "num_samples = 48000\n",
    " \n",
    "# The sampling rate of the analog to digital convert\n",
    "sampling_rate = 48000.0\n",
    "amplitude = 16000\n",
    "file = \"test.wav\"\n"
   ]
  },
  {
   "cell_type": "markdown",
   "id": "92e14c85-2b49-4b34-a823-5c15c539e4a0",
   "metadata": {},
   "source": [
    "## 设置波形变量"
   ]
  },
  {
   "cell_type": "code",
   "execution_count": 2,
   "id": "f195a235-809a-418f-a282-4b05042d7f41",
   "metadata": {},
   "outputs": [],
   "source": [
    "sine_wave = [np.sin(2 * np.pi * frequency * x/sampling_rate) for x in range(num_samples)]\n"
   ]
  },
  {
   "cell_type": "markdown",
   "id": "1ed97b86-4df8-47d3-a195-c283a10280d0",
   "metadata": {},
   "source": [
    "## 将正弦波写入文件了。\n",
    "我们将使用Python的内置wave库。在这里我们设置参数.\n",
    "- `nframes`是帧数或样本数.\n",
    "- `comptype`和`compname`都表示同样的事情：数据未压缩.\n",
    "- `nchannels`是通道数，即1.\n",
    "- `sampwidth`是以字节为单位的样本宽度。正如我前面提到的，波形文件通常是每个样本16位或2个字节"
   ]
  },
  {
   "cell_type": "code",
   "execution_count": 3,
   "id": "e680aeea-313a-4995-a3fc-8284ce476b0d",
   "metadata": {},
   "outputs": [],
   "source": [
    "nframes=num_samples\n",
    "comptype=\"NONE\"\n",
    "compname=\"not compressed\" \n",
    "nchannels=1\n",
    "sampwidth=2\n"
   ]
  },
  {
   "cell_type": "code",
   "execution_count": 4,
   "id": "fc0de220-4994-447c-ae84-b4c8c2110743",
   "metadata": {},
   "outputs": [
    {
     "data": {
      "text/plain": [
       "b'\\xd8\\xf7'"
      ]
     },
     "execution_count": 4,
     "metadata": {},
     "output_type": "execute_result"
    }
   ],
   "source": [
    "wav_file=wave.open(file, 'w')\n",
    "wav_file.setparams((nchannels, sampwidth, int(sampling_rate), nframes, comptype, compname))\n",
    "\n",
    "for s in sine_wave:\n",
    "   wav_file.writeframes(struct.pack('h', int(s*amplitude)))\n",
    "\n",
    "struct.pack('h', int(s*amplitude))\n"
   ]
  },
  {
   "cell_type": "code",
   "execution_count": null,
   "id": "d3af78c7-d974-426c-91e1-212f831f7149",
   "metadata": {},
   "outputs": [],
   "source": []
  }
 ],
 "metadata": {
  "kernelspec": {
   "display_name": "Python 3 (ipykernel)",
   "language": "python",
   "name": "python3"
  },
  "language_info": {
   "codemirror_mode": {
    "name": "ipython",
    "version": 3
   },
   "file_extension": ".py",
   "mimetype": "text/x-python",
   "name": "python",
   "nbconvert_exporter": "python",
   "pygments_lexer": "ipython3",
   "version": "3.9.14"
  }
 },
 "nbformat": 4,
 "nbformat_minor": 5
}
