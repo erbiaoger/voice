{
 "cells": [
  {
   "cell_type": "markdown",
   "id": "8a7be671-a07c-46ac-a266-636ea416e3c8",
   "metadata": {},
   "source": [
    "## 方法二：pydub\n",
    "可以通过pip安装，pydub还能调用底层的PyAudio和ffmpeg库"
   ]
  },
  {
   "cell_type": "code",
   "execution_count": 13,
   "id": "bbd7e57b-8c47-49cc-8e8d-67314ff746d9",
   "metadata": {},
   "outputs": [
    {
     "name": "stdout",
     "output_type": "stream",
     "text": [
      "Collecting pydub\n",
      "  Downloading pydub-0.25.1-py2.py3-none-any.whl (32 kB)\n",
      "Installing collected packages: pydub\n",
      "Successfully installed pydub-0.25.1\n"
     ]
    }
   ],
   "source": [
    "!pip install pydub"
   ]
  },
  {
   "cell_type": "code",
   "execution_count": null,
   "id": "c648caae-416d-41c3-8211-e7db89064977",
   "metadata": {},
   "outputs": [],
   "source": [
    "# libav\n",
    "!brew install libav\n",
    "\n",
    "####    OR    #####\n",
    "\n",
    "# ffmpeg\n",
    "!brew install ffmpeg"
   ]
  },
  {
   "cell_type": "code",
   "execution_count": 28,
   "id": "4f538482-c7b1-4f09-aa8f-a34df77e9a41",
   "metadata": {},
   "outputs": [
    {
     "name": "stderr",
     "output_type": "stream",
     "text": [
      "Input #0, wav, from '/var/folders/sl/483mjxsd5wn00k1lbpr591jm0000gn/T/tmpm2c07e51.wav':\n",
      "  Duration: 00:00:01.00, bitrate: 768 kb/s\n",
      "  Stream #0:0: Audio: pcm_s16le ([1][0][0][0] / 0x0001), 48000 Hz, 1 channels, s16, 768 kb/s\n",
      "   0.96 M-A:  0.000 fd=   0 aq=    0KB vq=    0KB sq=    0B f=0/0   \r"
     ]
    },
    {
     "name": "stdout",
     "output_type": "stream",
     "text": [
      "\n"
     ]
    }
   ],
   "source": [
    "from pydub import AudioSegment\n",
    "from pydub.playback import play\n",
    "\n",
    "song = AudioSegment.from_wav(\"test.wav\")\n",
    "\n",
    "play(song)"
   ]
  },
  {
   "cell_type": "markdown",
   "id": "8661f596-419a-4440-bc10-815d08eae998",
   "metadata": {},
   "source": [
    "## 方法四：本地播放器\n",
    "可以使用电脑或树莓派自身的播放器软件播放音频文件，在windows上只要指定默认的播放器即可，在Linux等上面可以通过终端安装播放软件，比如mpg123."
   ]
  },
  {
   "cell_type": "code",
   "execution_count": null,
   "id": "e56eb72a-fef6-44b7-b82e-6167d0387e97",
   "metadata": {},
   "outputs": [
    {
     "name": "stdout",
     "output_type": "stream",
     "text": [
      "Running `brew update --auto-update`...\n",
      "\u001b[33mWarning:\u001b[0m You are using macOS 13.\n",
      "We do not provide support for this pre-release version.\n",
      "You will encounter build failures with some formulae.\n",
      "Please create pull requests instead of asking for help on Homebrew's GitHub,\n",
      "Twitter or any other official channels. You are responsible for resolving\n",
      "any issues you experience while you are running this\n",
      "pre-release version.\n",
      "\n",
      "\u001b[34m==>\u001b[0m \u001b[1mDownloading https://mirrors.aliyun.com/homebrew/homebrew-bottles/mpg123-1.30\u001b[0m\n",
      "######################################################################## 100.0%\n",
      "\u001b[34m==>\u001b[0m \u001b[1mPouring mpg123-1.30.2.arm64_monterey.bottle.tar.gz\u001b[0m\n",
      "🍺  /opt/homebrew/Cellar/mpg123/1.30.2: 33 files, 1.9MB\n",
      "\u001b[34m==>\u001b[0m \u001b[1mRunning `brew cleanup mpg123`...\u001b[0m\n",
      "Disable this behaviour by setting HOMEBREW_NO_INSTALL_CLEANUP.\n",
      "Hide these hints with HOMEBREW_NO_ENV_HINTS (see `man brew`).\n"
     ]
    }
   ],
   "source": [
    "!brew install mpg123"
   ]
  },
  {
   "cell_type": "code",
   "execution_count": 18,
   "id": "de727559-d8da-4da9-a0b3-2b5e9663f373",
   "metadata": {},
   "outputs": [
    {
     "name": "stderr",
     "output_type": "stream",
     "text": [
      "sh: mpg123test.wav: command not found\n"
     ]
    },
    {
     "data": {
      "text/plain": [
       "32512"
      ]
     },
     "execution_count": 18,
     "metadata": {},
     "output_type": "execute_result"
    }
   ],
   "source": [
    "import os\n",
    " \n",
    "file = 'test.wav'\n",
    " \n",
    "os.system('mpg123' + file)"
   ]
  },
  {
   "cell_type": "code",
   "execution_count": null,
   "id": "4a57637c-a77e-45f5-b59e-f29c777616af",
   "metadata": {},
   "outputs": [],
   "source": []
  },
  {
   "cell_type": "code",
   "execution_count": null,
   "id": "86823982-feac-4479-98f4-cbd12ca7c346",
   "metadata": {},
   "outputs": [],
   "source": []
  },
  {
   "cell_type": "code",
   "execution_count": null,
   "id": "41225f04-7dc0-4c8b-b4ec-bf726d2c9c6c",
   "metadata": {},
   "outputs": [],
   "source": []
  }
 ],
 "metadata": {
  "kernelspec": {
   "display_name": "Python 3 (ipykernel)",
   "language": "python",
   "name": "python3"
  },
  "language_info": {
   "codemirror_mode": {
    "name": "ipython",
    "version": 3
   },
   "file_extension": ".py",
   "mimetype": "text/x-python",
   "name": "python",
   "nbconvert_exporter": "python",
   "pygments_lexer": "ipython3",
   "version": "3.10.6"
  }
 },
 "nbformat": 4,
 "nbformat_minor": 5
}
